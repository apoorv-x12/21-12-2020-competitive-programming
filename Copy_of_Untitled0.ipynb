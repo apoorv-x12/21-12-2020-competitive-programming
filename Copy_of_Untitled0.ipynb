{
  "nbformat": 4,
  "nbformat_minor": 0,
  "metadata": {
    "colab": {
      "name": "Copy of Untitled0.ipynb",
      "provenance": [],
      "authorship_tag": "ABX9TyO9X0MomhIXHWUdHghbuO/d",
      "include_colab_link": true
    },
    "kernelspec": {
      "name": "python3",
      "display_name": "Python 3"
    },
    "accelerator": "GPU"
  },
  "cells": [
    {
      "cell_type": "markdown",
      "metadata": {
        "id": "view-in-github",
        "colab_type": "text"
      },
      "source": [
        "<a href=\"https://colab.research.google.com/github/apoorv-x12/21-12-2020-competitive-programming/blob/main/Copy_of_Untitled0.ipynb\" target=\"_parent\"><img src=\"https://colab.research.google.com/assets/colab-badge.svg\" alt=\"Open In Colab\"/></a>"
      ]
    },
    {
      "cell_type": "code",
      "metadata": {
        "colab": {
          "base_uri": "https://localhost:8080/"
        },
        "id": "JRKuuEuUhrHh",
        "outputId": "2f732f85-af05-4865-c59e-05045e5bd572"
      },
      "source": [
        "!pip install -Uqq fastbook\r\n",
        "import fastbook\r\n",
        "fastbook.setup_book()\r\n"
      ],
      "execution_count": null,
      "outputs": [
        {
          "output_type": "stream",
          "text": [
            "\u001b[?25l\r\u001b[K     |▌                               | 10kB 30.8MB/s eta 0:00:01\r\u001b[K     |█                               | 20kB 35.2MB/s eta 0:00:01\r\u001b[K     |█▍                              | 30kB 27.8MB/s eta 0:00:01\r\u001b[K     |█▉                              | 40kB 20.3MB/s eta 0:00:01\r\u001b[K     |██▎                             | 51kB 15.5MB/s eta 0:00:01\r\u001b[K     |██▊                             | 61kB 14.2MB/s eta 0:00:01\r\u001b[K     |███▏                            | 71kB 14.0MB/s eta 0:00:01\r\u001b[K     |███▋                            | 81kB 13.8MB/s eta 0:00:01\r\u001b[K     |████                            | 92kB 13.8MB/s eta 0:00:01\r\u001b[K     |████▌                           | 102kB 12.7MB/s eta 0:00:01\r\u001b[K     |█████                           | 112kB 12.7MB/s eta 0:00:01\r\u001b[K     |█████▌                          | 122kB 12.7MB/s eta 0:00:01\r\u001b[K     |██████                          | 133kB 12.7MB/s eta 0:00:01\r\u001b[K     |██████▍                         | 143kB 12.7MB/s eta 0:00:01\r\u001b[K     |██████▉                         | 153kB 12.7MB/s eta 0:00:01\r\u001b[K     |███████▎                        | 163kB 12.7MB/s eta 0:00:01\r\u001b[K     |███████▊                        | 174kB 12.7MB/s eta 0:00:01\r\u001b[K     |████████▏                       | 184kB 12.7MB/s eta 0:00:01\r\u001b[K     |████████▋                       | 194kB 12.7MB/s eta 0:00:01\r\u001b[K     |█████████                       | 204kB 12.7MB/s eta 0:00:01\r\u001b[K     |█████████▋                      | 215kB 12.7MB/s eta 0:00:01\r\u001b[K     |██████████                      | 225kB 12.7MB/s eta 0:00:01\r\u001b[K     |██████████▌                     | 235kB 12.7MB/s eta 0:00:01\r\u001b[K     |███████████                     | 245kB 12.7MB/s eta 0:00:01\r\u001b[K     |███████████▍                    | 256kB 12.7MB/s eta 0:00:01\r\u001b[K     |███████████▉                    | 266kB 12.7MB/s eta 0:00:01\r\u001b[K     |████████████▎                   | 276kB 12.7MB/s eta 0:00:01\r\u001b[K     |████████████▊                   | 286kB 12.7MB/s eta 0:00:01\r\u001b[K     |█████████████▏                  | 296kB 12.7MB/s eta 0:00:01\r\u001b[K     |█████████████▋                  | 307kB 12.7MB/s eta 0:00:01\r\u001b[K     |██████████████                  | 317kB 12.7MB/s eta 0:00:01\r\u001b[K     |██████████████▋                 | 327kB 12.7MB/s eta 0:00:01\r\u001b[K     |███████████████                 | 337kB 12.7MB/s eta 0:00:01\r\u001b[K     |███████████████▌                | 348kB 12.7MB/s eta 0:00:01\r\u001b[K     |████████████████                | 358kB 12.7MB/s eta 0:00:01\r\u001b[K     |████████████████▍               | 368kB 12.7MB/s eta 0:00:01\r\u001b[K     |████████████████▉               | 378kB 12.7MB/s eta 0:00:01\r\u001b[K     |█████████████████▎              | 389kB 12.7MB/s eta 0:00:01\r\u001b[K     |█████████████████▊              | 399kB 12.7MB/s eta 0:00:01\r\u001b[K     |██████████████████▏             | 409kB 12.7MB/s eta 0:00:01\r\u001b[K     |██████████████████▋             | 419kB 12.7MB/s eta 0:00:01\r\u001b[K     |███████████████████▏            | 430kB 12.7MB/s eta 0:00:01\r\u001b[K     |███████████████████▋            | 440kB 12.7MB/s eta 0:00:01\r\u001b[K     |████████████████████            | 450kB 12.7MB/s eta 0:00:01\r\u001b[K     |████████████████████▌           | 460kB 12.7MB/s eta 0:00:01\r\u001b[K     |█████████████████████           | 471kB 12.7MB/s eta 0:00:01\r\u001b[K     |█████████████████████▍          | 481kB 12.7MB/s eta 0:00:01\r\u001b[K     |█████████████████████▉          | 491kB 12.7MB/s eta 0:00:01\r\u001b[K     |██████████████████████▎         | 501kB 12.7MB/s eta 0:00:01\r\u001b[K     |██████████████████████▊         | 512kB 12.7MB/s eta 0:00:01\r\u001b[K     |███████████████████████▏        | 522kB 12.7MB/s eta 0:00:01\r\u001b[K     |███████████████████████▋        | 532kB 12.7MB/s eta 0:00:01\r\u001b[K     |████████████████████████▏       | 542kB 12.7MB/s eta 0:00:01\r\u001b[K     |████████████████████████▋       | 552kB 12.7MB/s eta 0:00:01\r\u001b[K     |█████████████████████████       | 563kB 12.7MB/s eta 0:00:01\r\u001b[K     |█████████████████████████▌      | 573kB 12.7MB/s eta 0:00:01\r\u001b[K     |██████████████████████████      | 583kB 12.7MB/s eta 0:00:01\r\u001b[K     |██████████████████████████▍     | 593kB 12.7MB/s eta 0:00:01\r\u001b[K     |██████████████████████████▉     | 604kB 12.7MB/s eta 0:00:01\r\u001b[K     |███████████████████████████▎    | 614kB 12.7MB/s eta 0:00:01\r\u001b[K     |███████████████████████████▊    | 624kB 12.7MB/s eta 0:00:01\r\u001b[K     |████████████████████████████▏   | 634kB 12.7MB/s eta 0:00:01\r\u001b[K     |████████████████████████████▊   | 645kB 12.7MB/s eta 0:00:01\r\u001b[K     |█████████████████████████████▏  | 655kB 12.7MB/s eta 0:00:01\r\u001b[K     |█████████████████████████████▋  | 665kB 12.7MB/s eta 0:00:01\r\u001b[K     |██████████████████████████████  | 675kB 12.7MB/s eta 0:00:01\r\u001b[K     |██████████████████████████████▌ | 686kB 12.7MB/s eta 0:00:01\r\u001b[K     |███████████████████████████████ | 696kB 12.7MB/s eta 0:00:01\r\u001b[K     |███████████████████████████████▍| 706kB 12.7MB/s eta 0:00:01\r\u001b[K     |███████████████████████████████▉| 716kB 12.7MB/s eta 0:00:01\r\u001b[K     |████████████████████████████████| 727kB 12.7MB/s \n",
            "\u001b[K     |████████████████████████████████| 51kB 8.6MB/s \n",
            "\u001b[K     |████████████████████████████████| 194kB 30.2MB/s \n",
            "\u001b[K     |████████████████████████████████| 1.1MB 32.2MB/s \n",
            "\u001b[K     |████████████████████████████████| 61kB 9.7MB/s \n",
            "\u001b[?25hMounted at /content/gdrive\n"
          ],
          "name": "stdout"
        }
      ]
    },
    {
      "cell_type": "code",
      "metadata": {
        "id": "8ChHtS0oi46v"
      },
      "source": [
        "from fastbook import *\r\n"
      ],
      "execution_count": null,
      "outputs": []
    }
  ]
}